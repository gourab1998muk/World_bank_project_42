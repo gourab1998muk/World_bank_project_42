{
 "cells": [
  {
   "cell_type": "markdown",
   "id": "90700fdc-fcc7-4e54-8c9e-449879d8c66d",
   "metadata": {
    "tags": []
   },
   "source": [
    "# Python Package Example\n",
    "\n",
    "> The following is an example of on how to use and distribute your project as a [Python package](https://packaging.python.org) using the example <span style=\"color:#3EACAD\">template</span>. Remember mix and match to yout project's requirements. "
   ]
  },
  {
   "cell_type": "markdown",
   "id": "14e89727",
   "metadata": {},
   "source": [
    "## Usage"
   ]
  },
  {
   "cell_type": "code",
   "execution_count": null,
   "id": "ef92b033-81e2-4c5f-b56a-63f4f7a37247",
   "metadata": {
    "editable": true,
    "slideshow": {
     "slide_type": ""
    },
    "tags": [
     "remove-cell"
    ]
   },
   "outputs": [],
   "source": [
    "import pandas as pd\n",
    "import matplotlib.pyplot as plt\n",
    "import seaborn as sns\n",
    "import plotly.express as px\n",
    "import plotly.graph_objects as go\n",
    "pd.reset_option('display.max_rows')\n",
    "pd.reset_option('display.max_columns')\n",
    "pd.reset_option('display.max_colwidth')"
   ]
  },
  {
   "cell_type": "code",
   "execution_count": 4,
   "id": "de174771",
   "metadata": {},
   "outputs": [],
   "source": [
    "import sys\n",
    "import os\n",
    "\n",
    "# Add ../src relative to the notebook location\n",
    "src_path = os.path.abspath(\"../src\")\n",
    "if src_path not in sys.path:\n",
    "    sys.path.insert(0, src_path)\n"
   ]
  },
  {
   "cell_type": "markdown",
   "id": "b4c0f3e8-7756-41bb-aa21-cc2eee5ff67f",
   "metadata": {},
   "source": [
    "Unlike the [previous example](https://worldbank.github.io/template/notebooks/world-bank-api.html), where the source code was contained on the Jupyter notebook itself, we (re)use a Python package - the [template](https://github.com/worldbank/template/tree/main/src/template) Python package - which will let us (re)use any attributes and methods in the following example.\n",
    "\n",
    "Let's start by importing `WorldBankIndicatorsAPI`, a Python API wrapper class created to facilitate the usage of the [World Bank Indicators API](https://datahelpdesk.worldbank.org/knowledgebase/articles/889392-about-the-indicators-api-documentation)."
   ]
  },
  {
   "cell_type": "code",
   "execution_count": 7,
   "id": "d797ef77-6ca4-4f9d-a1f8-abbfd9884b07",
   "metadata": {},
   "outputs": [
    {
     "name": "stdout",
     "output_type": "stream",
     "text": [
      "update with get data path : done\n",
      "update with get data path : done\n"
     ]
    }
   ],
   "source": [
    "import importlib\n",
    "import template.data_preprocessing\n",
    "#Reload the module to reflect any changes made\n",
    "importlib.reload(template.data_preprocessing)\n",
    "from template.data_preprocessing import load_data,explore_data"
   ]
  },
  {
   "cell_type": "code",
   "execution_count": 8,
   "id": "c24efc13",
   "metadata": {},
   "outputs": [
    {
     "name": "stdout",
     "output_type": "stream",
     "text": [
      "<class 'pandas.core.frame.DataFrame'>\n",
      "RangeIndex: 2184 entries, 0 to 2183\n",
      "Data columns (total 12 columns):\n",
      " #   Column              Non-Null Count  Dtype  \n",
      "---  ------              --------------  -----  \n",
      " 0   Key                 2184 non-null   object \n",
      " 1   Country             2184 non-null   object \n",
      " 2   Region              2160 non-null   object \n",
      " 3   Income              2184 non-null   object \n",
      " 4   Indicator           2184 non-null   object \n",
      " 5   Indicator type      2184 non-null   object \n",
      " 6   Indicator key word  2184 non-null   object \n",
      " 7   Score               2184 non-null   object \n",
      " 8   Evidence            1895 non-null   object \n",
      " 9   Link                1326 non-null   object \n",
      " 10  Numerical score     2184 non-null   float64\n",
      " 11  Comments            22 non-null     object \n",
      "dtypes: float64(1), object(11)\n",
      "memory usage: 204.9+ KB\n",
      "Dataset Info:\n",
      " None\n",
      "\n",
      "First 5 Rows:\n",
      "                                                  Key      Country Region  \\\n",
      "0  Afghanistan-Is there a mechanism to coordinate...  Afghanistan    SAR   \n",
      "1  Afghanistan-Does the national government (or o...  Afghanistan    SAR   \n",
      "2  Afghanistan-Do fiscal risk statements identify...  Afghanistan    SAR   \n",
      "3  Afghanistan-Is climate change reflected in the...  Afghanistan    SAR   \n",
      "4  Afghanistan-Are climate-related expenditures i...  Afghanistan    SAR   \n",
      "\n",
      "       Income                                          Indicator  \\\n",
      "0  Low income  Is there a mechanism to coordinate among natio...   \n",
      "1  Low income  Does the national government (or other body) p...   \n",
      "2  Low income  Do fiscal risk statements identify climate cha...   \n",
      "3  Low income  Is climate change reflected in the budget guid...   \n",
      "4  Low income  Are climate-related expenditures identified in...   \n",
      "\n",
      "  Indicator type        Indicator key word           Score  \\\n",
      "0     Governance              Coordination             Yes   \n",
      "1     Governance  Climate risk information  Info not found   \n",
      "2     Governance     Fiscal risk statement  Info not found   \n",
      "3     Governance         Budget guidelines  Info not found   \n",
      "4     Governance           Budget tracking              No   \n",
      "\n",
      "                                            Evidence  \\\n",
      "0  The National Environmental Protection Agency C...   \n",
      "1  No published climate risk data for all local g...   \n",
      "2  The Taliban has developed a budget but documen...   \n",
      "3  The Taliban has created a budget but documents...   \n",
      "4  The Taliban has developed a budget for Afghani...   \n",
      "\n",
      "                                                Link  Numerical score  \\\n",
      "0                   https://www.nepa.gov.af/service3              1.0   \n",
      "1                                                NaN              0.0   \n",
      "2                                                NaN              0.0   \n",
      "3                                                NaN              0.0   \n",
      "4  https://www.undp.org/sites/g/files/zskgke326/f...              0.0   \n",
      "\n",
      "  Comments   \n",
      "0       NaN  \n",
      "1       NaN  \n",
      "2       NaN  \n",
      "3       NaN  \n",
      "4       NaN  \n",
      "\n",
      "Missing Values:\n",
      " Key                      0\n",
      "Country                  0\n",
      "Region                  24\n",
      "Income                   0\n",
      "Indicator                0\n",
      "Indicator type           0\n",
      "Indicator key word       0\n",
      "Score                    0\n",
      "Evidence               289\n",
      "Link                   858\n",
      "Numerical score          0\n",
      "Comments              2162\n",
      "dtype: int64\n",
      "\n",
      "Duplicate Rows:  0\n",
      "\n",
      "Summary Statistics:\n",
      "                                                       Key      Country Region  \\\n",
      "count                                                2184         2184   2160   \n",
      "unique                                               2184          182      7   \n",
      "top     Afghanistan-Is there a mechanism to coordinate...  Afghanistan    ECA   \n",
      "freq                                                    1           12    564   \n",
      "mean                                                  NaN          NaN    NaN   \n",
      "std                                                   NaN          NaN    NaN   \n",
      "min                                                   NaN          NaN    NaN   \n",
      "25%                                                   NaN          NaN    NaN   \n",
      "50%                                                   NaN          NaN    NaN   \n",
      "75%                                                   NaN          NaN    NaN   \n",
      "max                                                   NaN          NaN    NaN   \n",
      "\n",
      "                     Income  \\\n",
      "count                  2184   \n",
      "unique                    5   \n",
      "top     Lower-middle income   \n",
      "freq                    624   \n",
      "mean                    NaN   \n",
      "std                     NaN   \n",
      "min                     NaN   \n",
      "25%                     NaN   \n",
      "50%                     NaN   \n",
      "75%                     NaN   \n",
      "max                     NaN   \n",
      "\n",
      "                                                Indicator Indicator type  \\\n",
      "count                                                2184           2184   \n",
      "unique                                                 12              2   \n",
      "top     Is there a mechanism to coordinate among natio...     Governance   \n",
      "freq                                                  182           2002   \n",
      "mean                                                  NaN            NaN   \n",
      "std                                                   NaN            NaN   \n",
      "min                                                   NaN            NaN   \n",
      "25%                                                   NaN            NaN   \n",
      "50%                                                   NaN            NaN   \n",
      "75%                                                   NaN            NaN   \n",
      "max                                                   NaN            NaN   \n",
      "\n",
      "       Indicator key word Score Evidence  \\\n",
      "count                2184  2184     1895   \n",
      "unique                 12     4     1699   \n",
      "top          Coordination    No   UNFCCC   \n",
      "freq                  182  1033       45   \n",
      "mean                  NaN   NaN      NaN   \n",
      "std                   NaN   NaN      NaN   \n",
      "min                   NaN   NaN      NaN   \n",
      "25%                   NaN   NaN      NaN   \n",
      "50%                   NaN   NaN      NaN   \n",
      "75%                   NaN   NaN      NaN   \n",
      "max                   NaN   NaN      NaN   \n",
      "\n",
      "                                                     Link  Numerical score  \\\n",
      "count                                                1326      2184.000000   \n",
      "unique                                                971              NaN   \n",
      "top     https://www.fsb.org/wp-content/uploads/P121023...              NaN   \n",
      "freq                                                  130              NaN   \n",
      "mean                                                  NaN         0.438187   \n",
      "std                                                   NaN         0.477460   \n",
      "min                                                   NaN         0.000000   \n",
      "25%                                                   NaN         0.000000   \n",
      "50%                                                   NaN         0.000000   \n",
      "75%                                                   NaN         1.000000   \n",
      "max                                                   NaN         1.000000   \n",
      "\n",
      "                                                Comments   \n",
      "count                                                  22  \n",
      "unique                                                 21  \n",
      "top     Double check with Fabienne if this is still a ...  \n",
      "freq                                                    2  \n",
      "mean                                                  NaN  \n",
      "std                                                   NaN  \n",
      "min                                                   NaN  \n",
      "25%                                                   NaN  \n",
      "50%                                                   NaN  \n",
      "75%                                                   NaN  \n",
      "max                                                   NaN  \n"
     ]
    }
   ],
   "source": [
    "#load the data\n",
    "df = load_data('WB.xlsx',file_type='excel',sheet_name='CC GOV Global Indicatos 2024')\n",
    "# %%\n",
    "#explore the data\n",
    "explore_data(df)"
   ]
  },
  {
   "cell_type": "code",
   "execution_count": 45,
   "id": "11d7d15b",
   "metadata": {},
   "outputs": [],
   "source": [
    "# import pandas as pd\n",
    "\n",
    "# # Base columns to keep\n",
    "# base_cols = ['Country', 'Indicator']\n",
    "\n",
    "# # Create null flags\n",
    "# df['Region_Null'] = df['Region'].isnull()\n",
    "# df['Evidence_Null'] = df['Evidence'].isnull()\n",
    "# df['Link_Null'] = df['Link'].isnull()\n",
    "# df['Comments_Null'] = df['Comments'].isnull()\n",
    "\n",
    "# # Subset the relevant columns for Tableau\n",
    "# tableau_df = df[base_cols + ['Region_Null', 'Evidence_Null', 'Link_Null', 'Comments_Null']]\n",
    "\n",
    "# # Optional: Remove duplicates (some combinations might repeat due to multiple entries)\n",
    "# tableau_df = tableau_df.drop_duplicates()\n",
    "\n",
    "# # Save to CSV for Tableau\n",
    "# tableau_df.to_csv('tableau_null_indicator_map.csv', index=False)\n",
    "# #need to open tableau link and check the data"
   ]
  },
  {
   "cell_type": "code",
   "execution_count": 31,
   "id": "539dc56e",
   "metadata": {},
   "outputs": [
    {
     "name": "stdout",
     "output_type": "stream",
     "text": [
      "The counrties with the missing values in the Region column are:['Canada' 'United States']\n",
      "The total no of countries with missing evedence are :146 \n",
      "and the conutry names are ['Afghanistan' 'Albania' 'Algeria' 'Angola' 'Antigua and Barbuda'\n",
      " 'Arab Republic of Egypt' 'Armenia' 'Azerbaijan' 'Bahrain' 'Bangladesh'\n",
      " 'Belarus' 'Belize' 'Bhutan' 'Bolivia' 'Bosnia and Herzegovina' 'Botswana'\n",
      " 'Brunei Darussalam' 'Bulgaria' 'Burkina Faso' 'Burundi' 'Cabo Verde'\n",
      " 'Cambodia' 'Cameroon' 'Canada' 'Central African Republic' 'Chad' 'China'\n",
      " 'Comoros' 'Costa Rica' 'Cote d’Ivoire' 'Croatia' 'Cyprus' 'Czechia'\n",
      " \"Democratic People's Republic of Korea\" 'Democratic Republic of Congo'\n",
      " 'Djibouti' 'Dominica' 'Dominican Republic' 'Ecuador' 'El Salvador'\n",
      " 'Equatorial Guinea\\xa0' 'Eritrea' 'Estonia' 'Eswatini' 'Ethiopia'\n",
      " 'Federated States of Micronesia' 'Gabon' 'Georgia' 'Ghana' 'Greece'\n",
      " 'Grenada' 'Guinea' 'Guinea-Bissau' 'Guyana' 'Haiti' 'Hungary' 'Iceland'\n",
      " 'India' 'Indonesia' 'Iraq' 'Islamic Republic of Iran' 'Israel' 'Italy'\n",
      " 'Jamaica' 'Jordan' 'Kazakhstan' 'Kenya' 'Kiribati' 'Kosovo' 'Kuwait'\n",
      " 'Kyrgyz Republic' \"Lao People's Democratic Republic\" 'Latvia' 'Lebanon'\n",
      " 'Lesotho' 'Liberia' 'Libya' 'Lithuania' 'Madagascar' 'Malawi' 'Malaysia'\n",
      " 'Maldives' 'Mali' 'Marshall Islands' 'Mauritania' 'Mauritius' 'Moldova'\n",
      " 'Mongolia' 'Montenegro' 'Morocco' 'Mozambique' 'Myanmar' 'Namibia'\n",
      " 'New Zealand' 'Nicaragua' 'Niger' 'Nigeria' 'North Macedonia' 'Oman'\n",
      " 'Panama' 'Poland' 'Qatar' 'Republic of Congo' 'Republic of Yemen'\n",
      " 'Republica Bolivariana de Venezuela' 'Romania' 'Rwanda'\n",
      " 'Sao Tome e Principe' 'Saudi Arabia' 'Senegal' 'Serbia' 'Seychelles'\n",
      " 'Sierra Leone' 'Singapore' 'Slovak Republic' 'Slovenia' 'Somalia'\n",
      " 'South Sudan' 'Sri Lanka' 'St. Kitts and Nevis' 'St. Lucia'\n",
      " 'St. Vincent and the Grenadines' 'Sudan' 'Suriname' 'Switzerland'\n",
      " 'Syrian Arab Republic' 'Taiwan' 'Tajikistan' 'Tanzania' 'Thailand'\n",
      " 'The Gambia' 'Timor-Leste' 'Togo' 'Tonga' 'Trinidad and Tobago' 'Tunisia'\n",
      " 'Türkiye' 'Tuvalu' 'Uganda' 'United Arab Emirates' 'Uruguay' 'Uzbekistan'\n",
      " 'Vanuatu' 'West Bank and Gaza' 'Zambia' 'Zimbabwe']\n"
     ]
    }
   ],
   "source": [
    "null_region_countries = f\"The counrties with the missing values in the Region column are:{df[df['Region'].isnull()]['Country'].unique()}\"\n",
    "print(null_region_countries)\n",
    "null_evidence_countries =f\"\"\"The total no of countries with missing evedence are :{len(df[df[\"Evidence\"].isnull()][\"Country\"].unique())} \n",
    "and the conutry names are {df[df[\"Evidence\"].isnull()][\"Country\"].unique()}\"\"\"\n",
    "print(null_evidence_countries)"
   ]
  },
  {
   "cell_type": "code",
   "execution_count": 46,
   "id": "8fe24740",
   "metadata": {},
   "outputs": [
    {
     "name": "stdout",
     "output_type": "stream",
     "text": [
      "The total no of countries with missing linked data are :179\n",
      "and the conutry names are ['Afghanistan' 'Albania' 'Algeria' 'Angola' 'Antigua and Barbuda'\n",
      " 'Arab Republic of Egypt' 'Argentina' 'Armenia' 'Australia' 'Austria'\n",
      " 'Azerbaijan' 'Bahrain' 'Bangladesh' 'Belarus' 'Belgium' 'Belize' 'Benin'\n",
      " 'Bhutan' 'Bolivia' 'Bosnia and Herzegovina' 'Botswana' 'Brazil'\n",
      " 'Brunei Darussalam' 'Bulgaria' 'Burkina Faso' 'Burundi' 'Cabo Verde'\n",
      " 'Cambodia' 'Cameroon' 'Canada' 'Central African Republic' 'Chad' 'Chile'\n",
      " 'China' 'Colombia' 'Comoros' 'Costa Rica' 'Cote d’Ivoire' 'Croatia'\n",
      " 'Cyprus' 'Czechia' \"Democratic People's Republic of Korea\"\n",
      " 'Democratic Republic of Congo' 'Denmark' 'Djibouti' 'Dominica'\n",
      " 'Dominican Republic' 'Ecuador' 'El Salvador' 'Equatorial Guinea\\xa0'\n",
      " 'Eritrea' 'Estonia' 'Eswatini' 'Ethiopia'\n",
      " 'Federated States of Micronesia' 'Fiji' 'Finland' 'France' 'Gabon'\n",
      " 'Georgia' 'Germany' 'Ghana' 'Greece' 'Grenada' 'Guatemala' 'Guinea'\n",
      " 'Guinea-Bissau' 'Guyana' 'Haiti' 'Honduras' 'Hungary' 'Iceland' 'India'\n",
      " 'Indonesia' 'Iraq' 'Ireland' 'Islamic Republic of Iran' 'Israel' 'Italy'\n",
      " 'Jamaica' 'Japan' 'Jordan' 'Kazakhstan' 'Kenya' 'Kiribati' 'Kosovo'\n",
      " 'Kuwait' 'Kyrgyz Republic' \"Lao People's Democratic Republic\" 'Latvia'\n",
      " 'Lebanon' 'Lesotho' 'Liberia' 'Libya' 'Lithuania' 'Madagascar' 'Malawi'\n",
      " 'Malaysia' 'Maldives' 'Mali' 'Marshall Islands' 'Mauritania' 'Mauritius'\n",
      " 'Mexico' 'Moldova' 'Mongolia' 'Montenegro' 'Morocco' 'Mozambique'\n",
      " 'Myanmar' 'Namibia' 'Nepal' 'Netherlands' 'New Zealand' 'Nicaragua'\n",
      " 'Niger' 'Nigeria' 'North Macedonia' 'Norway' 'Oman' 'Pakistan' 'Panama'\n",
      " 'Papua New Guinea' 'Paraguay' 'Peru' 'Philippines' 'Poland' 'Portugal'\n",
      " 'Qatar' 'Republic of Congo' 'Republic of Korea' 'Republic of Yemen'\n",
      " 'Republica Bolivariana de Venezuela' 'Romania' 'Russian Federation'\n",
      " 'Rwanda' 'Sao Tome e Principe' 'Saudi Arabia' 'Senegal' 'Serbia'\n",
      " 'Seychelles' 'Sierra Leone' 'Singapore' 'Slovak Republic' 'Slovenia'\n",
      " 'Somalia' 'South Sudan' 'Spain' 'Sri Lanka' 'St. Kitts and Nevis'\n",
      " 'St. Lucia' 'St. Vincent and the Grenadines' 'Sudan' 'Suriname' 'Sweden'\n",
      " 'Switzerland' 'Syrian Arab Republic' 'Taiwan' 'Tajikistan' 'Tanzania'\n",
      " 'Thailand' 'The Gambia' 'Timor-Leste' 'Togo' 'Tonga'\n",
      " 'Trinidad and Tobago' 'Tunisia' 'Türkiye' 'Tuvalu' 'Uganda'\n",
      " 'United Arab Emirates' 'United States' 'Uruguay' 'Uzbekistan' 'Vanuatu'\n",
      " 'Viet Nam' 'West Bank and Gaza' 'Zambia' 'Zimbabwe']\n"
     ]
    }
   ],
   "source": [
    "null_linked_countries = f\"\"\"The total no of countries with missing linked data are :{len(df[df[\"Link\"].isnull()][\"Country\"].unique())}\n",
    "and the conutry names are {df[df[\"Link\"].isnull()][\"Country\"].unique()}\"\"\"\n",
    "print(null_linked_countries)\n",
    "\n"
   ]
  },
  {
   "cell_type": "code",
   "execution_count": 11,
   "id": "48ada840",
   "metadata": {},
   "outputs": [
    {
     "name": "stdout",
     "output_type": "stream",
     "text": [
      "                  Country  Numerical_score\n",
      "0             Afghanistan         0.083333\n",
      "1                 Albania         0.416667\n",
      "2                 Algeria         0.208333\n",
      "3                  Angola         0.291667\n",
      "4     Antigua and Barbuda         0.333333\n",
      "5  Arab Republic of Egypt         0.458333\n",
      "6               Argentina         0.750000\n",
      "7                 Armenia         0.375000\n",
      "8               Australia         0.791667\n",
      "9                 Austria         1.000000\n"
     ]
    }
   ],
   "source": [
    "region_mapping = {\n",
    "    'SAR': 'South Asia Region',\n",
    "    'ECA': 'Europe and Central Asia',\n",
    "    'MNA': 'Middle East and North Africa',\n",
    "    'AFRE': 'Sub-Saharan Africa (East)',\n",
    "    'LAC': 'Latin America and the Caribbean',\n",
    "    'EAP': 'East Asia and Pacific',\n",
    "    'AFRW': 'Sub-Saharan Africa (West)'\n",
    "}\n",
    "\n",
    "# Map the region codes to region names and create a new column\n",
    "df['Region_names'] = df['Region'].map(region_mapping)\n",
    "df.head()\n",
    "#%%\n",
    "# Insert the Region_names column next to Region_codes\n",
    "region_col_index = df.columns.get_loc('Region')  # Get the index of the Region_codes column\n",
    "df.insert(region_col_index + 1, 'Region_names', df.pop('Region_names'))\n",
    "df.head()\n",
    "#%%\n",
    "country_scores = df.groupby('Country').agg(Numerical_score=('Numerical score', 'mean')).reset_index()\n",
    "#%%\n",
    "print(country_scores.head(10))"
   ]
  },
  {
   "cell_type": "markdown",
   "id": "17f380e4-3854-4af6-940c-7afe9723a59a",
   "metadata": {},
   "source": [
    "Let's continue by creating the API object. "
   ]
  },
  {
   "cell_type": "code",
   "execution_count": null,
   "id": "f911a5c3-6994-45a6-a049-4b398f5890c0",
   "metadata": {},
   "outputs": [],
   "source": [
    "#%%\n",
    "# Creating aggregated metrics per country\n",
    "country_summary = df.groupby(\"Country\").agg(\n",
    "    Total_Indicators=(\"Score\", \"count\"),\n",
    "    Yes_Count=(\"Score\", lambda x: (x == \"Yes\").sum()),\n",
    "    Partial_Count=(\"Score\", lambda x: (x == \"Partial\").sum()),\n",
    "    No_Count=(\"Score\", lambda x: (x == \"No\").sum()),\n",
    "    Info_Not_Found_Count=(\"Score\", lambda x: (x == \"Info not found\").sum()),\n",
    "    Avg_Score=(\"Numerical score\", \"mean\")\n",
    ").reset_index()\n",
    "#%%\n"
   ]
  },
  {
   "cell_type": "code",
   "execution_count": 15,
   "id": "8416ace2",
   "metadata": {},
   "outputs": [
    {
     "data": {
      "application/vnd.plotly.v1+json": {
       "config": {
        "plotlyServerURL": "https://plot.ly"
       },
       "data": [
        {
         "coloraxis": "coloraxis",
         "customdata": [
          [
           12,
           1,
           0,
           8,
           3,
           0.08333333333333333
          ],
          [
           12,
           4,
           2,
           5,
           1,
           0.4166666666666667
          ],
          [
           12,
           2,
           1,
           8,
           1,
           0.20833333333333334
          ],
          [
           12,
           3,
           1,
           8,
           0,
           0.2916666666666667
          ],
          [
           12,
           3,
           2,
           7,
           0,
           0.3333333333333333
          ],
          [
           12,
           5,
           1,
           6,
           0,
           0.4583333333333333
          ],
          [
           12,
           8,
           2,
           1,
           1,
           0.75
          ],
          [
           12,
           4,
           1,
           7,
           0,
           0.375
          ],
          [
           12,
           9,
           1,
           2,
           0,
           0.7916666666666666
          ],
          [
           12,
           12,
           0,
           0,
           0,
           1
          ],
          [
           12,
           4,
           1,
           6,
           1,
           0.375
          ],
          [
           12,
           2,
           0,
           9,
           1,
           0.16666666666666666
          ],
          [
           12,
           4,
           4,
           4,
           0,
           0.5
          ],
          [
           12,
           1,
           1,
           8,
           2,
           0.125
          ],
          [
           12,
           10,
           0,
           1,
           1,
           0.8333333333333334
          ],
          [
           12,
           4,
           1,
           6,
           1,
           0.375
          ],
          [
           12,
           7,
           3,
           2,
           0,
           0.7083333333333334
          ],
          [
           12,
           5,
           2,
           5,
           0,
           0.5
          ],
          [
           12,
           4,
           0,
           7,
           1,
           0.3333333333333333
          ],
          [
           12,
           2,
           1,
           8,
           1,
           0.20833333333333334
          ],
          [
           12,
           3,
           1,
           8,
           0,
           0.2916666666666667
          ],
          [
           12,
           9,
           1,
           2,
           0,
           0.7916666666666666
          ],
          [
           12,
           2,
           0,
           10,
           0,
           0.16666666666666666
          ],
          [
           12,
           7,
           1,
           3,
           1,
           0.625
          ],
          [
           12,
           3,
           1,
           8,
           0,
           0.2916666666666667
          ],
          [
           12,
           3,
           0,
           9,
           0,
           0.25
          ],
          [
           12,
           5,
           0,
           7,
           0,
           0.4166666666666667
          ],
          [
           12,
           6,
           2,
           4,
           0,
           0.5833333333333334
          ],
          [
           12,
           4,
           4,
           4,
           0,
           0.5
          ],
          [
           12,
           11,
           0,
           1,
           0,
           0.9166666666666666
          ],
          [
           12,
           3,
           0,
           9,
           0,
           0.25
          ],
          [
           12,
           3,
           0,
           9,
           0,
           0.25
          ],
          [
           12,
           11,
           0,
           1,
           0,
           0.9166666666666666
          ],
          [
           12,
           5,
           1,
           5,
           1,
           0.4583333333333333
          ],
          [
           12,
           10,
           2,
           0,
           0,
           0.9166666666666666
          ],
          [
           12,
           1,
           0,
           10,
           1,
           0.08333333333333333
          ],
          [
           12,
           7,
           1,
           4,
           0,
           0.625
          ],
          [
           12,
           2,
           1,
           9,
           0,
           0.20833333333333334
          ],
          [
           12,
           7,
           0,
           5,
           0,
           0.5833333333333334
          ],
          [
           12,
           6,
           2,
           4,
           0,
           0.5833333333333334
          ],
          [
           12,
           7,
           1,
           2,
           2,
           0.625
          ],
          [
           12,
           0,
           0,
           9,
           3,
           0
          ],
          [
           12,
           4,
           1,
           7,
           0,
           0.375
          ],
          [
           12,
           11,
           0,
           0,
           1,
           0.9166666666666666
          ],
          [
           12,
           2,
           0,
           9,
           1,
           0.16666666666666666
          ],
          [
           12,
           3,
           1,
           7,
           1,
           0.2916666666666667
          ],
          [
           12,
           4,
           1,
           7,
           0,
           0.375
          ],
          [
           12,
           9,
           0,
           2,
           1,
           0.75
          ],
          [
           12,
           3,
           1,
           7,
           1,
           0.2916666666666667
          ],
          [
           12,
           1,
           0,
           9,
           2,
           0.08333333333333333
          ],
          [
           12,
           2,
           0,
           8,
           2,
           0.16666666666666666
          ],
          [
           12,
           6,
           0,
           5,
           1,
           0.5
          ],
          [
           12,
           1,
           1,
           8,
           2,
           0.125
          ],
          [
           12,
           7,
           0,
           5,
           0,
           0.5833333333333334
          ],
          [
           12,
           4,
           0,
           8,
           0,
           0.3333333333333333
          ],
          [
           12,
           8,
           0,
           4,
           0,
           0.6666666666666666
          ],
          [
           12,
           10,
           1,
           0,
           1,
           0.875
          ],
          [
           12,
           10,
           1,
           0,
           1,
           0.875
          ],
          [
           12,
           2,
           1,
           8,
           1,
           0.20833333333333334
          ],
          [
           12,
           5,
           2,
           5,
           0,
           0.5
          ],
          [
           12,
           9,
           1,
           1,
           1,
           0.7916666666666666
          ],
          [
           12,
           4,
           3,
           5,
           0,
           0.4583333333333333
          ],
          [
           12,
           9,
           1,
           2,
           0,
           0.7916666666666666
          ],
          [
           12,
           6,
           1,
           5,
           0,
           0.5416666666666666
          ],
          [
           12,
           7,
           1,
           4,
           0,
           0.625
          ],
          [
           12,
           1,
           1,
           10,
           0,
           0.125
          ],
          [
           12,
           1,
           0,
           10,
           1,
           0.08333333333333333
          ],
          [
           12,
           3,
           0,
           8,
           1,
           0.25
          ],
          [
           12,
           4,
           0,
           8,
           0,
           0.3333333333333333
          ],
          [
           12,
           6,
           2,
           4,
           0,
           0.5833333333333334
          ],
          [
           12,
           6,
           0,
           5,
           1,
           0.5
          ],
          [
           12,
           7,
           2,
           1,
           2,
           0.6666666666666666
          ],
          [
           12,
           7,
           0,
           4,
           1,
           0.5833333333333334
          ],
          [
           12,
           6,
           2,
           4,
           0,
           0.5833333333333334
          ],
          [
           12,
           1,
           0,
           9,
           2,
           0.08333333333333333
          ],
          [
           12,
           12,
           0,
           0,
           0,
           1
          ],
          [
           12,
           2,
           0,
           9,
           1,
           0.16666666666666666
          ],
          [
           12,
           3,
           1,
           6,
           2,
           0.2916666666666667
          ],
          [
           12,
           9,
           0,
           2,
           1,
           0.75
          ],
          [
           12,
           3,
           1,
           8,
           0,
           0.2916666666666667
          ],
          [
           12,
           9,
           0,
           1,
           2,
           0.75
          ],
          [
           12,
           5,
           1,
           6,
           0,
           0.4583333333333333
          ],
          [
           12,
           4,
           2,
           6,
           0,
           0.4166666666666667
          ],
          [
           12,
           7,
           2,
           3,
           0,
           0.6666666666666666
          ],
          [
           12,
           4,
           0,
           8,
           0,
           0.3333333333333333
          ],
          [
           12,
           3,
           1,
           8,
           0,
           0.2916666666666667
          ],
          [
           12,
           2,
           0,
           10,
           0,
           0.16666666666666666
          ],
          [
           12,
           1,
           1,
           8,
           2,
           0.125
          ],
          [
           12,
           2,
           1,
           8,
           1,
           0.20833333333333334
          ],
          [
           12,
           8,
           0,
           4,
           0,
           0.6666666666666666
          ],
          [
           12,
           1,
           2,
           8,
           1,
           0.16666666666666666
          ],
          [
           12,
           3,
           1,
           8,
           0,
           0.2916666666666667
          ],
          [
           12,
           2,
           0,
           9,
           1,
           0.16666666666666666
          ],
          [
           12,
           1,
           0,
           9,
           2,
           0.08333333333333333
          ],
          [
           12,
           8,
           0,
           4,
           0,
           0.6666666666666666
          ],
          [
           12,
           5,
           0,
           7,
           0,
           0.4166666666666667
          ],
          [
           12,
           2,
           1,
           8,
           1,
           0.20833333333333334
          ],
          [
           12,
           3,
           2,
           7,
           0,
           0.3333333333333333
          ],
          [
           12,
           3,
           1,
           8,
           0,
           0.2916666666666667
          ],
          [
           12,
           2,
           1,
           9,
           0,
           0.20833333333333334
          ],
          [
           12,
           3,
           0,
           7,
           2,
           0.25
          ],
          [
           12,
           2,
           2,
           8,
           0,
           0.25
          ],
          [
           12,
           2,
           2,
           7,
           1,
           0.25
          ],
          [
           12,
           9,
           0,
           3,
           0,
           0.75
          ],
          [
           12,
           5,
           1,
           6,
           0,
           0.4583333333333333
          ],
          [
           12,
           1,
           1,
           10,
           0,
           0.125
          ],
          [
           12,
           3,
           1,
           6,
           2,
           0.2916666666666667
          ],
          [
           12,
           5,
           2,
           5,
           0,
           0.5
          ],
          [
           12,
           4,
           1,
           7,
           0,
           0.375
          ],
          [
           12,
           3,
           0,
           9,
           0,
           0.25
          ],
          [
           12,
           2,
           2,
           7,
           1,
           0.25
          ],
          [
           12,
           8,
           1,
           2,
           1,
           0.7083333333333334
          ],
          [
           12,
           9,
           2,
           1,
           0,
           0.8333333333333334
          ],
          [
           12,
           9,
           0,
           3,
           0,
           0.75
          ],
          [
           12,
           4,
           0,
           6,
           2,
           0.3333333333333333
          ],
          [
           12,
           1,
           0,
           11,
           0,
           0.08333333333333333
          ],
          [
           12,
           7,
           0,
           5,
           0,
           0.5833333333333334
          ],
          [
           12,
           2,
           2,
           5,
           3,
           0.25
          ],
          [
           12,
           10,
           1,
           0,
           1,
           0.875
          ],
          [
           12,
           3,
           0,
           9,
           0,
           0.25
          ],
          [
           12,
           8,
           0,
           4,
           0,
           0.6666666666666666
          ],
          [
           12,
           4,
           1,
           6,
           1,
           0.375
          ],
          [
           12,
           4,
           2,
           6,
           0,
           0.4166666666666667
          ],
          [
           12,
           7,
           1,
           4,
           0,
           0.625
          ],
          [
           12,
           9,
           0,
           3,
           0,
           0.75
          ],
          [
           12,
           8,
           2,
           2,
           0,
           0.75
          ],
          [
           12,
           4,
           2,
           6,
           0,
           0.4166666666666667
          ],
          [
           12,
           11,
           0,
           1,
           0,
           0.9166666666666666
          ],
          [
           12,
           1,
           0,
           10,
           1,
           0.08333333333333333
          ],
          [
           12,
           2,
           2,
           8,
           0,
           0.25
          ],
          [
           12,
           9,
           1,
           1,
           1,
           0.7916666666666666
          ],
          [
           12,
           0,
           0,
           10,
           2,
           0
          ],
          [
           12,
           2,
           0,
           8,
           2,
           0.16666666666666666
          ],
          [
           12,
           7,
           0,
           5,
           0,
           0.5833333333333334
          ],
          [
           12,
           5,
           2,
           4,
           1,
           0.5
          ],
          [
           12,
           4,
           0,
           8,
           0,
           0.3333333333333333
          ],
          [
           12,
           2,
           0,
           10,
           0,
           0.16666666666666666
          ],
          [
           12,
           2,
           1,
           8,
           1,
           0.20833333333333334
          ],
          [
           12,
           5,
           1,
           6,
           0,
           0.4583333333333333
          ],
          [
           12,
           5,
           2,
           4,
           1,
           0.5
          ],
          [
           12,
           3,
           1,
           8,
           0,
           0.2916666666666667
          ],
          [
           12,
           4,
           1,
           7,
           0,
           0.375
          ],
          [
           12,
           5,
           1,
           5,
           1,
           0.4583333333333333
          ],
          [
           12,
           7,
           0,
           4,
           1,
           0.5833333333333334
          ],
          [
           12,
           8,
           2,
           2,
           0,
           0.75
          ],
          [
           12,
           5,
           0,
           5,
           2,
           0.4166666666666667
          ],
          [
           12,
           7,
           4,
           1,
           0,
           0.75
          ],
          [
           12,
           2,
           1,
           7,
           2,
           0.20833333333333334
          ],
          [
           12,
           11,
           0,
           0,
           1,
           0.9166666666666666
          ],
          [
           12,
           4,
           0,
           7,
           1,
           0.3333333333333333
          ],
          [
           12,
           3,
           1,
           7,
           1,
           0.2916666666666667
          ],
          [
           12,
           2,
           1,
           8,
           1,
           0.20833333333333334
          ],
          [
           12,
           4,
           2,
           5,
           1,
           0.4166666666666667
          ],
          [
           12,
           3,
           1,
           6,
           2,
           0.2916666666666667
          ],
          [
           12,
           1,
           0,
           9,
           2,
           0.08333333333333333
          ],
          [
           12,
           10,
           2,
           0,
           0,
           0.9166666666666666
          ],
          [
           12,
           7,
           2,
           2,
           1,
           0.6666666666666666
          ],
          [
           12,
           0,
           0,
           10,
           2,
           0
          ],
          [
           12,
           5,
           1,
           5,
           1,
           0.4583333333333333
          ],
          [
           12,
           2,
           0,
           10,
           0,
           0.16666666666666666
          ],
          [
           12,
           4,
           1,
           7,
           0,
           0.375
          ],
          [
           12,
           8,
           1,
           3,
           0,
           0.7083333333333334
          ],
          [
           12,
           3,
           1,
           6,
           2,
           0.2916666666666667
          ],
          [
           12,
           5,
           0,
           6,
           1,
           0.4166666666666667
          ],
          [
           12,
           4,
           3,
           5,
           0,
           0.4583333333333333
          ],
          [
           12,
           6,
           0,
           6,
           0,
           0.5
          ],
          [
           12,
           4,
           1,
           6,
           1,
           0.375
          ],
          [
           12,
           3,
           2,
           7,
           0,
           0.3333333333333333
          ],
          [
           12,
           3,
           0,
           8,
           1,
           0.25
          ],
          [
           12,
           5,
           0,
           7,
           0,
           0.4166666666666667
          ],
          [
           12,
           6,
           1,
           5,
           0,
           0.5416666666666666
          ],
          [
           12,
           6,
           4,
           2,
           0,
           0.6666666666666666
          ],
          [
           12,
           5,
           1,
           5,
           1,
           0.4583333333333333
          ],
          [
           12,
           10,
           1,
           1,
           0,
           0.875
          ],
          [
           12,
           11,
           0,
           1,
           0,
           0.9166666666666666
          ],
          [
           12,
           6,
           0,
           6,
           0,
           0.5
          ],
          [
           12,
           1,
           1,
           8,
           2,
           0.125
          ],
          [
           12,
           7,
           1,
           4,
           0,
           0.625
          ],
          [
           12,
           4,
           1,
           5,
           2,
           0.375
          ],
          [
           12,
           2,
           0,
           9,
           1,
           0.16666666666666666
          ],
          [
           12,
           4,
           1,
           6,
           1,
           0.375
          ],
          [
           12,
           4,
           1,
           7,
           0,
           0.375
          ]
         ],
         "geo": "geo",
         "hovertemplate": "<b>%{hovertext}</b><br><br>Country=%{location}<br>Total_Indicators=%{customdata[0]}<br>Yes_Count=%{customdata[1]}<br>Partial_Count=%{customdata[2]}<br>No_Count=%{customdata[3]}<br>Info_Not_Found_Count=%{customdata[4]}<br>Avg_Score=%{z}<extra></extra>",
         "hovertext": [
          "Afghanistan",
          "Albania",
          "Algeria",
          "Angola",
          "Antigua and Barbuda",
          "Arab Republic of Egypt",
          "Argentina",
          "Armenia",
          "Australia",
          "Austria",
          "Azerbaijan",
          "Bahrain",
          "Bangladesh",
          "Belarus",
          "Belgium",
          "Belize",
          "Benin",
          "Bhutan",
          "Bolivia",
          "Bosnia and Herzegovina",
          "Botswana",
          "Brazil",
          "Brunei Darussalam",
          "Bulgaria",
          "Burkina Faso",
          "Burundi",
          "Cabo Verde",
          "Cambodia",
          "Cameroon",
          "Canada",
          "Central African Republic",
          "Chad",
          "Chile",
          "China",
          "Colombia",
          "Comoros",
          "Costa Rica",
          "Cote d’Ivoire",
          "Croatia",
          "Cyprus",
          "Czechia",
          "Democratic People's Republic of Korea",
          "Democratic Republic of Congo",
          "Denmark",
          "Djibouti",
          "Dominica",
          "Dominican Republic",
          "Ecuador",
          "El Salvador",
          "Equatorial Guinea ",
          "Eritrea",
          "Estonia",
          "Eswatini",
          "Ethiopia",
          "Federated States of Micronesia",
          "Fiji",
          "Finland",
          "France",
          "Gabon",
          "Georgia",
          "Germany",
          "Ghana",
          "Greece",
          "Grenada",
          "Guatemala",
          "Guinea",
          "Guinea-Bissau",
          "Guyana",
          "Haiti",
          "Honduras",
          "Hungary",
          "Iceland",
          "India",
          "Indonesia",
          "Iraq",
          "Ireland",
          "Islamic Republic of Iran",
          "Israel",
          "Italy",
          "Jamaica",
          "Japan",
          "Jordan",
          "Kazakhstan",
          "Kenya",
          "Kiribati",
          "Kosovo",
          "Kuwait",
          "Kyrgyz Republic",
          "Lao People's Democratic Republic",
          "Latvia",
          "Lebanon",
          "Lesotho",
          "Liberia",
          "Libya",
          "Lithuania",
          "Madagascar",
          "Malawi",
          "Malaysia",
          "Maldives",
          "Mali",
          "Marshall Islands",
          "Mauritania",
          "Mauritius",
          "Mexico",
          "Moldova",
          "Mongolia",
          "Montenegro",
          "Morocco",
          "Mozambique",
          "Myanmar",
          "Namibia",
          "Nepal",
          "Netherlands",
          "New Zealand",
          "Nicaragua",
          "Niger",
          "Nigeria",
          "North Macedonia",
          "Norway",
          "Oman",
          "Pakistan",
          "Panama",
          "Papua New Guinea",
          "Paraguay",
          "Peru",
          "Philippines",
          "Poland",
          "Portugal",
          "Qatar",
          "Republic of Congo",
          "Republic of Korea",
          "Republic of Yemen",
          "Republica Bolivariana de Venezuela",
          "Romania",
          "Russian Federation",
          "Rwanda",
          "Sao Tome e Principe",
          "Saudi Arabia",
          "Senegal",
          "Serbia",
          "Seychelles",
          "Sierra Leone",
          "Singapore",
          "Slovak Republic",
          "Slovenia",
          "Somalia",
          "South Africa",
          "South Sudan",
          "Spain",
          "Sri Lanka",
          "St. Kitts and Nevis",
          "St. Lucia",
          "St. Vincent and the Grenadines",
          "Sudan",
          "Suriname",
          "Sweden",
          "Switzerland",
          "Syrian Arab Republic",
          "Taiwan",
          "Tajikistan",
          "Tanzania",
          "Thailand",
          "The Gambia",
          "Timor-Leste",
          "Togo",
          "Tonga",
          "Trinidad and Tobago",
          "Tunisia",
          "Tuvalu",
          "Türkiye",
          "Uganda",
          "Ukraine",
          "United Arab Emirates",
          "United Kingdom",
          "United States",
          "Uruguay",
          "Uzbekistan",
          "Vanuatu",
          "Viet Nam",
          "West Bank and Gaza",
          "Zambia",
          "Zimbabwe"
         ],
         "locationmode": "country names",
         "locations": [
          "Afghanistan",
          "Albania",
          "Algeria",
          "Angola",
          "Antigua and Barbuda",
          "Arab Republic of Egypt",
          "Argentina",
          "Armenia",
          "Australia",
          "Austria",
          "Azerbaijan",
          "Bahrain",
          "Bangladesh",
          "Belarus",
          "Belgium",
          "Belize",
          "Benin",
          "Bhutan",
          "Bolivia",
          "Bosnia and Herzegovina",
          "Botswana",
          "Brazil",
          "Brunei Darussalam",
          "Bulgaria",
          "Burkina Faso",
          "Burundi",
          "Cabo Verde",
          "Cambodia",
          "Cameroon",
          "Canada",
          "Central African Republic",
          "Chad",
          "Chile",
          "China",
          "Colombia",
          "Comoros",
          "Costa Rica",
          "Cote d’Ivoire",
          "Croatia",
          "Cyprus",
          "Czechia",
          "Democratic People's Republic of Korea",
          "Democratic Republic of Congo",
          "Denmark",
          "Djibouti",
          "Dominica",
          "Dominican Republic",
          "Ecuador",
          "El Salvador",
          "Equatorial Guinea ",
          "Eritrea",
          "Estonia",
          "Eswatini",
          "Ethiopia",
          "Federated States of Micronesia",
          "Fiji",
          "Finland",
          "France",
          "Gabon",
          "Georgia",
          "Germany",
          "Ghana",
          "Greece",
          "Grenada",
          "Guatemala",
          "Guinea",
          "Guinea-Bissau",
          "Guyana",
          "Haiti",
          "Honduras",
          "Hungary",
          "Iceland",
          "India",
          "Indonesia",
          "Iraq",
          "Ireland",
          "Islamic Republic of Iran",
          "Israel",
          "Italy",
          "Jamaica",
          "Japan",
          "Jordan",
          "Kazakhstan",
          "Kenya",
          "Kiribati",
          "Kosovo",
          "Kuwait",
          "Kyrgyz Republic",
          "Lao People's Democratic Republic",
          "Latvia",
          "Lebanon",
          "Lesotho",
          "Liberia",
          "Libya",
          "Lithuania",
          "Madagascar",
          "Malawi",
          "Malaysia",
          "Maldives",
          "Mali",
          "Marshall Islands",
          "Mauritania",
          "Mauritius",
          "Mexico",
          "Moldova",
          "Mongolia",
          "Montenegro",
          "Morocco",
          "Mozambique",
          "Myanmar",
          "Namibia",
          "Nepal",
          "Netherlands",
          "New Zealand",
          "Nicaragua",
          "Niger",
          "Nigeria",
          "North Macedonia",
          "Norway",
          "Oman",
          "Pakistan",
          "Panama",
          "Papua New Guinea",
          "Paraguay",
          "Peru",
          "Philippines",
          "Poland",
          "Portugal",
          "Qatar",
          "Republic of Congo",
          "Republic of Korea",
          "Republic of Yemen",
          "Republica Bolivariana de Venezuela",
          "Romania",
          "Russian Federation",
          "Rwanda",
          "Sao Tome e Principe",
          "Saudi Arabia",
          "Senegal",
          "Serbia",
          "Seychelles",
          "Sierra Leone",
          "Singapore",
          "Slovak Republic",
          "Slovenia",
          "Somalia",
          "South Africa",
          "South Sudan",
          "Spain",
          "Sri Lanka",
          "St. Kitts and Nevis",
          "St. Lucia",
          "St. Vincent and the Grenadines",
          "Sudan",
          "Suriname",
          "Sweden",
          "Switzerland",
          "Syrian Arab Republic",
          "Taiwan",
          "Tajikistan",
          "Tanzania",
          "Thailand",
          "The Gambia",
          "Timor-Leste",
          "Togo",
          "Tonga",
          "Trinidad and Tobago",
          "Tunisia",
          "Tuvalu",
          "Türkiye",
          "Uganda",
          "Ukraine",
          "United Arab Emirates",
          "United Kingdom",
          "United States",
          "Uruguay",
          "Uzbekistan",
          "Vanuatu",
          "Viet Nam",
          "West Bank and Gaza",
          "Zambia",
          "Zimbabwe"
         ],
         "name": "",
         "type": "choropleth",
         "z": [
          0.08333333333333333,
          0.4166666666666667,
          0.20833333333333334,
          0.2916666666666667,
          0.3333333333333333,
          0.4583333333333333,
          0.75,
          0.375,
          0.7916666666666666,
          1,
          0.375,
          0.16666666666666666,
          0.5,
          0.125,
          0.8333333333333334,
          0.375,
          0.7083333333333334,
          0.5,
          0.3333333333333333,
          0.20833333333333334,
          0.2916666666666667,
          0.7916666666666666,
          0.16666666666666666,
          0.625,
          0.2916666666666667,
          0.25,
          0.4166666666666667,
          0.5833333333333334,
          0.5,
          0.9166666666666666,
          0.25,
          0.25,
          0.9166666666666666,
          0.4583333333333333,
          0.9166666666666666,
          0.08333333333333333,
          0.625,
          0.20833333333333334,
          0.5833333333333334,
          0.5833333333333334,
          0.625,
          0,
          0.375,
          0.9166666666666666,
          0.16666666666666666,
          0.2916666666666667,
          0.375,
          0.75,
          0.2916666666666667,
          0.08333333333333333,
          0.16666666666666666,
          0.5,
          0.125,
          0.5833333333333334,
          0.3333333333333333,
          0.6666666666666666,
          0.875,
          0.875,
          0.20833333333333334,
          0.5,
          0.7916666666666666,
          0.4583333333333333,
          0.7916666666666666,
          0.5416666666666666,
          0.625,
          0.125,
          0.08333333333333333,
          0.25,
          0.3333333333333333,
          0.5833333333333334,
          0.5,
          0.6666666666666666,
          0.5833333333333334,
          0.5833333333333334,
          0.08333333333333333,
          1,
          0.16666666666666666,
          0.2916666666666667,
          0.75,
          0.2916666666666667,
          0.75,
          0.4583333333333333,
          0.4166666666666667,
          0.6666666666666666,
          0.3333333333333333,
          0.2916666666666667,
          0.16666666666666666,
          0.125,
          0.20833333333333334,
          0.6666666666666666,
          0.16666666666666666,
          0.2916666666666667,
          0.16666666666666666,
          0.08333333333333333,
          0.6666666666666666,
          0.4166666666666667,
          0.20833333333333334,
          0.3333333333333333,
          0.2916666666666667,
          0.20833333333333334,
          0.25,
          0.25,
          0.25,
          0.75,
          0.4583333333333333,
          0.125,
          0.2916666666666667,
          0.5,
          0.375,
          0.25,
          0.25,
          0.7083333333333334,
          0.8333333333333334,
          0.75,
          0.3333333333333333,
          0.08333333333333333,
          0.5833333333333334,
          0.25,
          0.875,
          0.25,
          0.6666666666666666,
          0.375,
          0.4166666666666667,
          0.625,
          0.75,
          0.75,
          0.4166666666666667,
          0.9166666666666666,
          0.08333333333333333,
          0.25,
          0.7916666666666666,
          0,
          0.16666666666666666,
          0.5833333333333334,
          0.5,
          0.3333333333333333,
          0.16666666666666666,
          0.20833333333333334,
          0.4583333333333333,
          0.5,
          0.2916666666666667,
          0.375,
          0.4583333333333333,
          0.5833333333333334,
          0.75,
          0.4166666666666667,
          0.75,
          0.20833333333333334,
          0.9166666666666666,
          0.3333333333333333,
          0.2916666666666667,
          0.20833333333333334,
          0.4166666666666667,
          0.2916666666666667,
          0.08333333333333333,
          0.9166666666666666,
          0.6666666666666666,
          0,
          0.4583333333333333,
          0.16666666666666666,
          0.375,
          0.7083333333333334,
          0.2916666666666667,
          0.4166666666666667,
          0.4583333333333333,
          0.5,
          0.375,
          0.3333333333333333,
          0.25,
          0.4166666666666667,
          0.5416666666666666,
          0.6666666666666666,
          0.4583333333333333,
          0.875,
          0.9166666666666666,
          0.5,
          0.125,
          0.625,
          0.375,
          0.16666666666666666,
          0.375,
          0.375
         ]
        }
       ],
       "layout": {
        "coloraxis": {
         "colorbar": {
          "title": {
           "text": "Avg_Score"
          }
         },
         "colorscale": [
          [
           0,
           "#440154"
          ],
          [
           0.1111111111111111,
           "#482878"
          ],
          [
           0.2222222222222222,
           "#3e4989"
          ],
          [
           0.3333333333333333,
           "#31688e"
          ],
          [
           0.4444444444444444,
           "#26828e"
          ],
          [
           0.5555555555555556,
           "#1f9e89"
          ],
          [
           0.6666666666666666,
           "#35b779"
          ],
          [
           0.7777777777777778,
           "#6ece58"
          ],
          [
           0.8888888888888888,
           "#b5de2b"
          ],
          [
           1,
           "#fde725"
          ]
         ]
        },
        "geo": {
         "center": {},
         "domain": {
          "x": [
           0,
           1
          ],
          "y": [
           0,
           1
          ]
         },
         "projection": {
          "type": "natural earth"
         }
        },
        "legend": {
         "tracegroupgap": 0
        },
        "margin": {
         "b": 0,
         "l": 0,
         "r": 0,
         "t": 40
        },
        "template": {
         "data": {
          "bar": [
           {
            "error_x": {
             "color": "#2a3f5f"
            },
            "error_y": {
             "color": "#2a3f5f"
            },
            "marker": {
             "line": {
              "color": "#E5ECF6",
              "width": 0.5
             },
             "pattern": {
              "fillmode": "overlay",
              "size": 10,
              "solidity": 0.2
             }
            },
            "type": "bar"
           }
          ],
          "barpolar": [
           {
            "marker": {
             "line": {
              "color": "#E5ECF6",
              "width": 0.5
             },
             "pattern": {
              "fillmode": "overlay",
              "size": 10,
              "solidity": 0.2
             }
            },
            "type": "barpolar"
           }
          ],
          "carpet": [
           {
            "aaxis": {
             "endlinecolor": "#2a3f5f",
             "gridcolor": "white",
             "linecolor": "white",
             "minorgridcolor": "white",
             "startlinecolor": "#2a3f5f"
            },
            "baxis": {
             "endlinecolor": "#2a3f5f",
             "gridcolor": "white",
             "linecolor": "white",
             "minorgridcolor": "white",
             "startlinecolor": "#2a3f5f"
            },
            "type": "carpet"
           }
          ],
          "choropleth": [
           {
            "colorbar": {
             "outlinewidth": 0,
             "ticks": ""
            },
            "type": "choropleth"
           }
          ],
          "contour": [
           {
            "colorbar": {
             "outlinewidth": 0,
             "ticks": ""
            },
            "colorscale": [
             [
              0,
              "#0d0887"
             ],
             [
              0.1111111111111111,
              "#46039f"
             ],
             [
              0.2222222222222222,
              "#7201a8"
             ],
             [
              0.3333333333333333,
              "#9c179e"
             ],
             [
              0.4444444444444444,
              "#bd3786"
             ],
             [
              0.5555555555555556,
              "#d8576b"
             ],
             [
              0.6666666666666666,
              "#ed7953"
             ],
             [
              0.7777777777777778,
              "#fb9f3a"
             ],
             [
              0.8888888888888888,
              "#fdca26"
             ],
             [
              1,
              "#f0f921"
             ]
            ],
            "type": "contour"
           }
          ],
          "contourcarpet": [
           {
            "colorbar": {
             "outlinewidth": 0,
             "ticks": ""
            },
            "type": "contourcarpet"
           }
          ],
          "heatmap": [
           {
            "colorbar": {
             "outlinewidth": 0,
             "ticks": ""
            },
            "colorscale": [
             [
              0,
              "#0d0887"
             ],
             [
              0.1111111111111111,
              "#46039f"
             ],
             [
              0.2222222222222222,
              "#7201a8"
             ],
             [
              0.3333333333333333,
              "#9c179e"
             ],
             [
              0.4444444444444444,
              "#bd3786"
             ],
             [
              0.5555555555555556,
              "#d8576b"
             ],
             [
              0.6666666666666666,
              "#ed7953"
             ],
             [
              0.7777777777777778,
              "#fb9f3a"
             ],
             [
              0.8888888888888888,
              "#fdca26"
             ],
             [
              1,
              "#f0f921"
             ]
            ],
            "type": "heatmap"
           }
          ],
          "heatmapgl": [
           {
            "colorbar": {
             "outlinewidth": 0,
             "ticks": ""
            },
            "colorscale": [
             [
              0,
              "#0d0887"
             ],
             [
              0.1111111111111111,
              "#46039f"
             ],
             [
              0.2222222222222222,
              "#7201a8"
             ],
             [
              0.3333333333333333,
              "#9c179e"
             ],
             [
              0.4444444444444444,
              "#bd3786"
             ],
             [
              0.5555555555555556,
              "#d8576b"
             ],
             [
              0.6666666666666666,
              "#ed7953"
             ],
             [
              0.7777777777777778,
              "#fb9f3a"
             ],
             [
              0.8888888888888888,
              "#fdca26"
             ],
             [
              1,
              "#f0f921"
             ]
            ],
            "type": "heatmapgl"
           }
          ],
          "histogram": [
           {
            "marker": {
             "pattern": {
              "fillmode": "overlay",
              "size": 10,
              "solidity": 0.2
             }
            },
            "type": "histogram"
           }
          ],
          "histogram2d": [
           {
            "colorbar": {
             "outlinewidth": 0,
             "ticks": ""
            },
            "colorscale": [
             [
              0,
              "#0d0887"
             ],
             [
              0.1111111111111111,
              "#46039f"
             ],
             [
              0.2222222222222222,
              "#7201a8"
             ],
             [
              0.3333333333333333,
              "#9c179e"
             ],
             [
              0.4444444444444444,
              "#bd3786"
             ],
             [
              0.5555555555555556,
              "#d8576b"
             ],
             [
              0.6666666666666666,
              "#ed7953"
             ],
             [
              0.7777777777777778,
              "#fb9f3a"
             ],
             [
              0.8888888888888888,
              "#fdca26"
             ],
             [
              1,
              "#f0f921"
             ]
            ],
            "type": "histogram2d"
           }
          ],
          "histogram2dcontour": [
           {
            "colorbar": {
             "outlinewidth": 0,
             "ticks": ""
            },
            "colorscale": [
             [
              0,
              "#0d0887"
             ],
             [
              0.1111111111111111,
              "#46039f"
             ],
             [
              0.2222222222222222,
              "#7201a8"
             ],
             [
              0.3333333333333333,
              "#9c179e"
             ],
             [
              0.4444444444444444,
              "#bd3786"
             ],
             [
              0.5555555555555556,
              "#d8576b"
             ],
             [
              0.6666666666666666,
              "#ed7953"
             ],
             [
              0.7777777777777778,
              "#fb9f3a"
             ],
             [
              0.8888888888888888,
              "#fdca26"
             ],
             [
              1,
              "#f0f921"
             ]
            ],
            "type": "histogram2dcontour"
           }
          ],
          "mesh3d": [
           {
            "colorbar": {
             "outlinewidth": 0,
             "ticks": ""
            },
            "type": "mesh3d"
           }
          ],
          "parcoords": [
           {
            "line": {
             "colorbar": {
              "outlinewidth": 0,
              "ticks": ""
             }
            },
            "type": "parcoords"
           }
          ],
          "pie": [
           {
            "automargin": true,
            "type": "pie"
           }
          ],
          "scatter": [
           {
            "fillpattern": {
             "fillmode": "overlay",
             "size": 10,
             "solidity": 0.2
            },
            "type": "scatter"
           }
          ],
          "scatter3d": [
           {
            "line": {
             "colorbar": {
              "outlinewidth": 0,
              "ticks": ""
             }
            },
            "marker": {
             "colorbar": {
              "outlinewidth": 0,
              "ticks": ""
             }
            },
            "type": "scatter3d"
           }
          ],
          "scattercarpet": [
           {
            "marker": {
             "colorbar": {
              "outlinewidth": 0,
              "ticks": ""
             }
            },
            "type": "scattercarpet"
           }
          ],
          "scattergeo": [
           {
            "marker": {
             "colorbar": {
              "outlinewidth": 0,
              "ticks": ""
             }
            },
            "type": "scattergeo"
           }
          ],
          "scattergl": [
           {
            "marker": {
             "colorbar": {
              "outlinewidth": 0,
              "ticks": ""
             }
            },
            "type": "scattergl"
           }
          ],
          "scattermapbox": [
           {
            "marker": {
             "colorbar": {
              "outlinewidth": 0,
              "ticks": ""
             }
            },
            "type": "scattermapbox"
           }
          ],
          "scatterpolar": [
           {
            "marker": {
             "colorbar": {
              "outlinewidth": 0,
              "ticks": ""
             }
            },
            "type": "scatterpolar"
           }
          ],
          "scatterpolargl": [
           {
            "marker": {
             "colorbar": {
              "outlinewidth": 0,
              "ticks": ""
             }
            },
            "type": "scatterpolargl"
           }
          ],
          "scatterternary": [
           {
            "marker": {
             "colorbar": {
              "outlinewidth": 0,
              "ticks": ""
             }
            },
            "type": "scatterternary"
           }
          ],
          "surface": [
           {
            "colorbar": {
             "outlinewidth": 0,
             "ticks": ""
            },
            "colorscale": [
             [
              0,
              "#0d0887"
             ],
             [
              0.1111111111111111,
              "#46039f"
             ],
             [
              0.2222222222222222,
              "#7201a8"
             ],
             [
              0.3333333333333333,
              "#9c179e"
             ],
             [
              0.4444444444444444,
              "#bd3786"
             ],
             [
              0.5555555555555556,
              "#d8576b"
             ],
             [
              0.6666666666666666,
              "#ed7953"
             ],
             [
              0.7777777777777778,
              "#fb9f3a"
             ],
             [
              0.8888888888888888,
              "#fdca26"
             ],
             [
              1,
              "#f0f921"
             ]
            ],
            "type": "surface"
           }
          ],
          "table": [
           {
            "cells": {
             "fill": {
              "color": "#EBF0F8"
             },
             "line": {
              "color": "white"
             }
            },
            "header": {
             "fill": {
              "color": "#C8D4E3"
             },
             "line": {
              "color": "white"
             }
            },
            "type": "table"
           }
          ]
         },
         "layout": {
          "annotationdefaults": {
           "arrowcolor": "#2a3f5f",
           "arrowhead": 0,
           "arrowwidth": 1
          },
          "autotypenumbers": "strict",
          "coloraxis": {
           "colorbar": {
            "outlinewidth": 0,
            "ticks": ""
           }
          },
          "colorscale": {
           "diverging": [
            [
             0,
             "#8e0152"
            ],
            [
             0.1,
             "#c51b7d"
            ],
            [
             0.2,
             "#de77ae"
            ],
            [
             0.3,
             "#f1b6da"
            ],
            [
             0.4,
             "#fde0ef"
            ],
            [
             0.5,
             "#f7f7f7"
            ],
            [
             0.6,
             "#e6f5d0"
            ],
            [
             0.7,
             "#b8e186"
            ],
            [
             0.8,
             "#7fbc41"
            ],
            [
             0.9,
             "#4d9221"
            ],
            [
             1,
             "#276419"
            ]
           ],
           "sequential": [
            [
             0,
             "#0d0887"
            ],
            [
             0.1111111111111111,
             "#46039f"
            ],
            [
             0.2222222222222222,
             "#7201a8"
            ],
            [
             0.3333333333333333,
             "#9c179e"
            ],
            [
             0.4444444444444444,
             "#bd3786"
            ],
            [
             0.5555555555555556,
             "#d8576b"
            ],
            [
             0.6666666666666666,
             "#ed7953"
            ],
            [
             0.7777777777777778,
             "#fb9f3a"
            ],
            [
             0.8888888888888888,
             "#fdca26"
            ],
            [
             1,
             "#f0f921"
            ]
           ],
           "sequentialminus": [
            [
             0,
             "#0d0887"
            ],
            [
             0.1111111111111111,
             "#46039f"
            ],
            [
             0.2222222222222222,
             "#7201a8"
            ],
            [
             0.3333333333333333,
             "#9c179e"
            ],
            [
             0.4444444444444444,
             "#bd3786"
            ],
            [
             0.5555555555555556,
             "#d8576b"
            ],
            [
             0.6666666666666666,
             "#ed7953"
            ],
            [
             0.7777777777777778,
             "#fb9f3a"
            ],
            [
             0.8888888888888888,
             "#fdca26"
            ],
            [
             1,
             "#f0f921"
            ]
           ]
          },
          "colorway": [
           "#636efa",
           "#EF553B",
           "#00cc96",
           "#ab63fa",
           "#FFA15A",
           "#19d3f3",
           "#FF6692",
           "#B6E880",
           "#FF97FF",
           "#FECB52"
          ],
          "font": {
           "color": "#2a3f5f"
          },
          "geo": {
           "bgcolor": "white",
           "lakecolor": "white",
           "landcolor": "#E5ECF6",
           "showlakes": true,
           "showland": true,
           "subunitcolor": "white"
          },
          "hoverlabel": {
           "align": "left"
          },
          "hovermode": "closest",
          "mapbox": {
           "style": "light"
          },
          "paper_bgcolor": "white",
          "plot_bgcolor": "#E5ECF6",
          "polar": {
           "angularaxis": {
            "gridcolor": "white",
            "linecolor": "white",
            "ticks": ""
           },
           "bgcolor": "#E5ECF6",
           "radialaxis": {
            "gridcolor": "white",
            "linecolor": "white",
            "ticks": ""
           }
          },
          "scene": {
           "xaxis": {
            "backgroundcolor": "#E5ECF6",
            "gridcolor": "white",
            "gridwidth": 2,
            "linecolor": "white",
            "showbackground": true,
            "ticks": "",
            "zerolinecolor": "white"
           },
           "yaxis": {
            "backgroundcolor": "#E5ECF6",
            "gridcolor": "white",
            "gridwidth": 2,
            "linecolor": "white",
            "showbackground": true,
            "ticks": "",
            "zerolinecolor": "white"
           },
           "zaxis": {
            "backgroundcolor": "#E5ECF6",
            "gridcolor": "white",
            "gridwidth": 2,
            "linecolor": "white",
            "showbackground": true,
            "ticks": "",
            "zerolinecolor": "white"
           }
          },
          "shapedefaults": {
           "line": {
            "color": "#2a3f5f"
           }
          },
          "ternary": {
           "aaxis": {
            "gridcolor": "white",
            "linecolor": "white",
            "ticks": ""
           },
           "baxis": {
            "gridcolor": "white",
            "linecolor": "white",
            "ticks": ""
           },
           "bgcolor": "#E5ECF6",
           "caxis": {
            "gridcolor": "white",
            "linecolor": "white",
            "ticks": ""
           }
          },
          "title": {
           "x": 0.05
          },
          "xaxis": {
           "automargin": true,
           "gridcolor": "white",
           "linecolor": "white",
           "ticks": "",
           "title": {
            "standoff": 15
           },
           "zerolinecolor": "white",
           "zerolinewidth": 2
          },
          "yaxis": {
           "automargin": true,
           "gridcolor": "white",
           "linecolor": "white",
           "ticks": "",
           "title": {
            "standoff": 15
           },
           "zerolinecolor": "white",
           "zerolinewidth": 2
          }
         }
        },
        "title": {
         "text": "Average Score by Country"
        }
       }
      }
     },
     "metadata": {},
     "output_type": "display_data"
    }
   ],
   "source": [
    "#%%\n",
    "import plotly.express as px\n",
    "\n",
    "# Create the choropleth map\n",
    "fig = px.choropleth(\n",
    "    country_summary,\n",
    "    locations=\"Country\",\n",
    "    locationmode=\"country names\",  # Match on country names\n",
    "    color=\"Avg_Score\",  # The metric to color by\n",
    "    hover_name=\"Country\",\n",
    "    hover_data={\n",
    "        \"Total_Indicators\": True,\n",
    "        \"Yes_Count\": True,\n",
    "        \"Partial_Count\": True,\n",
    "        \"No_Count\": True,\n",
    "        \"Info_Not_Found_Count\": True,\n",
    "        \"Avg_Score\": True\n",
    "    },\n",
    "    color_continuous_scale=\"Viridis\",\n",
    "    title=\"Average Score by Country\"\n",
    ")\n",
    "\n",
    "fig.update_geos(projection_type=\"natural earth\")\n",
    "fig.update_layout(margin={\"r\":0,\"t\":40,\"l\":0,\"b\":0})\n",
    "fig.show()\n"
   ]
  },
  {
   "cell_type": "code",
   "execution_count": null,
   "id": "3433d2f3",
   "metadata": {},
   "outputs": [
    {
     "name": "stderr",
     "output_type": "stream",
     "text": [
      "C:\\Users\\goura\\AppData\\Local\\Temp\\ipykernel_23512\\766810057.py:16: FutureWarning:\n",
      "\n",
      "\n",
      "\n",
      "Passing `palette` without assigning `hue` is deprecated and will be removed in v0.14.0. Assign the `x` variable to `hue` and set `legend=False` for the same effect.\n",
      "\n",
      "\n"
     ]
    },
    {
     "data": {
      "image/png": "[encoded data removed]",
      "text/plain": [
       "<Figure size 1200x600 with 1 Axes>"
      ]
     },
     "metadata": {},
     "output_type": "display_data"
    }
   ],
   "source": [
    "\n",
    "# Computing income-level averages\n",
    "income_summary = df.groupby(\"Income\").agg(\n",
    "    Avg_Score=(\"Numerical score\", \"mean\"),\n",
    "    Total_Countries=(\"Country\", \"nunique\"),\n",
    "    Total_Indicators=(\"Score\", \"count\")\n",
    ").reset_index()\n",
    "\n",
    "#%%\n",
    "# Visualization: Barplot for Income Level\n",
    "plt.figure(figsize=(12, 6))\n",
    "income_summary_sorted = income_summary.sort_values(by='Avg_Score', ascending=False)  # Sort in descending order\n",
    "sns.barplot(x='Income', y='Avg_Score', data=income_summary_sorted, palette='viridis')\n",
    "plt.xlabel(\"Income Level\", fontsize=12)\n",
    "plt.ylabel(\"Average Score\", fontsize=12)\n",
    "plt.title(\"Average Climate Governance Score by Income Level\", fontsize=14, fontweight='bold')\n",
    "plt.xticks(rotation=45)\n",
    "plt.grid(axis='y', linestyle='--', alpha=0.7)\n",
    "plt.show()\n",
    "#%%\n"
   ]
  },
  {
   "cell_type": "code",
   "execution_count": 23,
   "id": "41167322",
   "metadata": {},
   "outputs": [
    {
     "name": "stdout",
     "output_type": "stream",
     "text": [
      "The country for which the dataset has income column as Not Classified is : ['Republica Bolivariana de Venezuela']\n"
     ]
    }
   ],
   "source": [
    "statemnet = f\"The country for which the dataset has income column as Not Classified is : {df[df['Income']=='Not classified']['Country'].unique()}\"\n",
    "print(statemnet)\n"
   ]
  },
  {
   "cell_type": "code",
   "execution_count": 50,
   "id": "fb6ca314-d161-40e1-a376-a3013a0711eb",
   "metadata": {},
   "outputs": [
    {
     "name": "stdout",
     "output_type": "stream",
     "text": [
      "update with get data path : done\n"
     ]
    }
   ],
   "source": [
    "# Accessing the 'Visualization' sheet\n",
    "\n",
    "importlib.reload(template.data_preprocessing)\n",
    "\n",
    "df_visualization = load_data('WB.xlsx',file_type='excel',sheet_name='Visualization')"
   ]
  },
  {
   "cell_type": "code",
   "execution_count": null,
   "id": "7fb7daea-c5cf-42ea-b746-a565dd9ac4e1",
   "metadata": {},
   "outputs": [
    {
     "data": {
      "text/html": [
       "<div>\n",
       "<style scoped>\n",
       "    .dataframe tbody tr th:only-of-type {\n",
       "        vertical-align: middle;\n",
       "    }\n",
       "\n",
       "    .dataframe tbody tr th {\n",
       "        vertical-align: top;\n",
       "    }\n",
       "\n",
       "    .dataframe thead th {\n",
       "        text-align: right;\n",
       "    }\n",
       "</style>\n",
       "<table border=\"1\" class=\"dataframe\">\n",
       "  <thead>\n",
       "    <tr style=\"text-align: right;\">\n",
       "      <th></th>\n",
       "      <th>Region</th>\n",
       "      <th>Country</th>\n",
       "      <th>Framework Law</th>\n",
       "      <th>Long-term Strategy  (LTS) or 2050+ CC Plan</th>\n",
       "      <th>National Adaptation Plan (NAP)</th>\n",
       "      <th>Coordination Mechanism</th>\n",
       "      <th>Local-Level Risk Assessments</th>\n",
       "      <th>Fiscal Risk Statements</th>\n",
       "      <th>Budget Guidelines</th>\n",
       "      <th>CC in Budget</th>\n",
       "      <th>Project Screening</th>\n",
       "      <th>SOE TFCD Framework Compliance</th>\n",
       "      <th>Subnational Government CC Plans and Strategies \\n</th>\n",
       "      <th>Environmental Criteria in Procurement Tenders</th>\n",
       "    </tr>\n",
       "  </thead>\n",
       "  <tbody>\n",
       "    <tr>\n",
       "      <th>0</th>\n",
       "      <td>Region</td>\n",
       "      <td>Country</td>\n",
       "      <td>Framework Law</td>\n",
       "      <td>Long-term Strategy  (LTS) or 2050+ CC Plan</td>\n",
       "      <td>National Adaptation Plan (NAP)</td>\n",
       "      <td>Coordination Mechanism</td>\n",
       "      <td>Local-Level Risk Assessments</td>\n",
       "      <td>Fiscal Risk Statements</td>\n",
       "      <td>Budget Guidelines</td>\n",
       "      <td>CC in Budget</td>\n",
       "      <td>Project Screening</td>\n",
       "      <td>SOE TFCD Framework Compliance</td>\n",
       "      <td>Subnational Government CC Plans and Strategies \\n</td>\n",
       "      <td>Environmental Criteria in Procurement Tenders</td>\n",
       "    </tr>\n",
       "    <tr>\n",
       "      <th>1</th>\n",
       "      <td>SAR</td>\n",
       "      <td>Afghanistan</td>\n",
       "      <td>No</td>\n",
       "      <td>No</td>\n",
       "      <td>No</td>\n",
       "      <td>Yes</td>\n",
       "      <td>Info not found</td>\n",
       "      <td>Info not found</td>\n",
       "      <td>Info not found</td>\n",
       "      <td>No</td>\n",
       "      <td>No</td>\n",
       "      <td>No</td>\n",
       "      <td>No</td>\n",
       "      <td>No</td>\n",
       "    </tr>\n",
       "    <tr>\n",
       "      <th>2</th>\n",
       "      <td>ECA</td>\n",
       "      <td>Albania</td>\n",
       "      <td>Yes</td>\n",
       "      <td>No</td>\n",
       "      <td>Yes</td>\n",
       "      <td>Yes</td>\n",
       "      <td>Yes</td>\n",
       "      <td>Info not found</td>\n",
       "      <td>No</td>\n",
       "      <td>No</td>\n",
       "      <td>No</td>\n",
       "      <td>No</td>\n",
       "      <td>Partial</td>\n",
       "      <td>Partial</td>\n",
       "    </tr>\n",
       "    <tr>\n",
       "      <th>3</th>\n",
       "      <td>MNA</td>\n",
       "      <td>Algeria</td>\n",
       "      <td>No</td>\n",
       "      <td>No</td>\n",
       "      <td>No</td>\n",
       "      <td>Yes</td>\n",
       "      <td>Yes</td>\n",
       "      <td>Info not found</td>\n",
       "      <td>No</td>\n",
       "      <td>No</td>\n",
       "      <td>No</td>\n",
       "      <td>No</td>\n",
       "      <td>No</td>\n",
       "      <td>Partial</td>\n",
       "    </tr>\n",
       "    <tr>\n",
       "      <th>4</th>\n",
       "      <td>AFRE</td>\n",
       "      <td>Angola</td>\n",
       "      <td>No</td>\n",
       "      <td>No</td>\n",
       "      <td>No</td>\n",
       "      <td>Yes</td>\n",
       "      <td>No</td>\n",
       "      <td>Yes</td>\n",
       "      <td>Yes</td>\n",
       "      <td>No</td>\n",
       "      <td>No</td>\n",
       "      <td>No</td>\n",
       "      <td>No</td>\n",
       "      <td>Partial</td>\n",
       "    </tr>\n",
       "  </tbody>\n",
       "</table>\n",
       "</div>"
      ],
      "text/plain": [
       "0  Region      Country  Framework Law  \\\n",
       "0  Region      Country  Framework Law   \n",
       "1     SAR  Afghanistan             No   \n",
       "2     ECA      Albania            Yes   \n",
       "3     MNA      Algeria             No   \n",
       "4    AFRE       Angola             No   \n",
       "\n",
       "0  Long-term Strategy  (LTS) or 2050+ CC Plan  National Adaptation Plan (NAP)  \\\n",
       "0  Long-term Strategy  (LTS) or 2050+ CC Plan  National Adaptation Plan (NAP)   \n",
       "1                                          No                              No   \n",
       "2                                          No                             Yes   \n",
       "3                                          No                              No   \n",
       "4                                          No                              No   \n",
       "\n",
       "0  Coordination Mechanism  Local-Level Risk Assessments  \\\n",
       "0  Coordination Mechanism  Local-Level Risk Assessments   \n",
       "1                     Yes                Info not found   \n",
       "2                     Yes                           Yes   \n",
       "3                     Yes                           Yes   \n",
       "4                     Yes                            No   \n",
       "\n",
       "0  Fiscal Risk Statements  Budget Guidelines  CC in Budget  Project Screening  \\\n",
       "0  Fiscal Risk Statements  Budget Guidelines  CC in Budget  Project Screening   \n",
       "1          Info not found     Info not found            No                 No   \n",
       "2          Info not found                 No            No                 No   \n",
       "3          Info not found                 No            No                 No   \n",
       "4                     Yes                Yes            No                 No   \n",
       "\n",
       "0  SOE TFCD Framework Compliance  \\\n",
       "0  SOE TFCD Framework Compliance   \n",
       "1                             No   \n",
       "2                             No   \n",
       "3                             No   \n",
       "4                             No   \n",
       "\n",
       "0  Subnational Government CC Plans and Strategies \\n  \\\n",
       "0  Subnational Government CC Plans and Strategies \\n   \n",
       "1                                                 No   \n",
       "2                                            Partial   \n",
       "3                                                 No   \n",
       "4                                                 No   \n",
       "\n",
       "0  Environmental Criteria in Procurement Tenders  \n",
       "0  Environmental Criteria in Procurement Tenders  \n",
       "1                                             No  \n",
       "2                                        Partial  \n",
       "3                                        Partial  \n",
       "4                                        Partial  "
      ]
     },
     "execution_count": 53,
     "metadata": {},
     "output_type": "execute_result"
    }
   ],
   "source": [
    "# Select the first 14 columns\n",
    "df_visualization_filtered = df_visualization.iloc[:, :14]\n",
    "# Set the first row as column headers\n",
    "df_visualization_filtered.columns = df_visualization_filtered.iloc[0]\n",
    "df_visualization_filtered.head()\n"
   ]
  },
  {
   "cell_type": "code",
   "execution_count": 54,
   "id": "cbbf0e9c",
   "metadata": {},
   "outputs": [
    {
     "data": {
      "text/html": [
       "<div>\n",
       "<style scoped>\n",
       "    .dataframe tbody tr th:only-of-type {\n",
       "        vertical-align: middle;\n",
       "    }\n",
       "\n",
       "    .dataframe tbody tr th {\n",
       "        vertical-align: top;\n",
       "    }\n",
       "\n",
       "    .dataframe thead th {\n",
       "        text-align: right;\n",
       "    }\n",
       "</style>\n",
       "<table border=\"1\" class=\"dataframe\">\n",
       "  <thead>\n",
       "    <tr style=\"text-align: right;\">\n",
       "      <th></th>\n",
       "      <th>Region</th>\n",
       "      <th>Country</th>\n",
       "      <th>Framework Law</th>\n",
       "      <th>Long-term Strategy  (LTS) or 2050+ CC Plan</th>\n",
       "      <th>National Adaptation Plan (NAP)</th>\n",
       "      <th>Coordination Mechanism</th>\n",
       "      <th>Local-Level Risk Assessments</th>\n",
       "      <th>Fiscal Risk Statements</th>\n",
       "      <th>Budget Guidelines</th>\n",
       "      <th>CC in Budget</th>\n",
       "      <th>Project Screening</th>\n",
       "      <th>SOE TFCD Framework Compliance</th>\n",
       "      <th>Subnational Government CC Plans and Strategies \\n</th>\n",
       "      <th>Environmental Criteria in Procurement Tenders</th>\n",
       "    </tr>\n",
       "  </thead>\n",
       "  <tbody>\n",
       "    <tr>\n",
       "      <th>0</th>\n",
       "      <td>SAR</td>\n",
       "      <td>Afghanistan</td>\n",
       "      <td>No</td>\n",
       "      <td>No</td>\n",
       "      <td>No</td>\n",
       "      <td>Yes</td>\n",
       "      <td>Info not found</td>\n",
       "      <td>Info not found</td>\n",
       "      <td>Info not found</td>\n",
       "      <td>No</td>\n",
       "      <td>No</td>\n",
       "      <td>No</td>\n",
       "      <td>No</td>\n",
       "      <td>No</td>\n",
       "    </tr>\n",
       "    <tr>\n",
       "      <th>1</th>\n",
       "      <td>ECA</td>\n",
       "      <td>Albania</td>\n",
       "      <td>Yes</td>\n",
       "      <td>No</td>\n",
       "      <td>Yes</td>\n",
       "      <td>Yes</td>\n",
       "      <td>Yes</td>\n",
       "      <td>Info not found</td>\n",
       "      <td>No</td>\n",
       "      <td>No</td>\n",
       "      <td>No</td>\n",
       "      <td>No</td>\n",
       "      <td>Partial</td>\n",
       "      <td>Partial</td>\n",
       "    </tr>\n",
       "    <tr>\n",
       "      <th>2</th>\n",
       "      <td>MNA</td>\n",
       "      <td>Algeria</td>\n",
       "      <td>No</td>\n",
       "      <td>No</td>\n",
       "      <td>No</td>\n",
       "      <td>Yes</td>\n",
       "      <td>Yes</td>\n",
       "      <td>Info not found</td>\n",
       "      <td>No</td>\n",
       "      <td>No</td>\n",
       "      <td>No</td>\n",
       "      <td>No</td>\n",
       "      <td>No</td>\n",
       "      <td>Partial</td>\n",
       "    </tr>\n",
       "    <tr>\n",
       "      <th>3</th>\n",
       "      <td>AFRE</td>\n",
       "      <td>Angola</td>\n",
       "      <td>No</td>\n",
       "      <td>No</td>\n",
       "      <td>No</td>\n",
       "      <td>Yes</td>\n",
       "      <td>No</td>\n",
       "      <td>Yes</td>\n",
       "      <td>Yes</td>\n",
       "      <td>No</td>\n",
       "      <td>No</td>\n",
       "      <td>No</td>\n",
       "      <td>No</td>\n",
       "      <td>Partial</td>\n",
       "    </tr>\n",
       "    <tr>\n",
       "      <th>4</th>\n",
       "      <td>LAC</td>\n",
       "      <td>Antigua and Barbuda</td>\n",
       "      <td>No</td>\n",
       "      <td>No</td>\n",
       "      <td>No</td>\n",
       "      <td>Yes</td>\n",
       "      <td>Partial</td>\n",
       "      <td>Yes</td>\n",
       "      <td>Yes</td>\n",
       "      <td>No</td>\n",
       "      <td>No</td>\n",
       "      <td>No</td>\n",
       "      <td>No</td>\n",
       "      <td>Partial</td>\n",
       "    </tr>\n",
       "  </tbody>\n",
       "</table>\n",
       "</div>"
      ],
      "text/plain": [
       "0 Region              Country Framework Law  \\\n",
       "0    SAR          Afghanistan            No   \n",
       "1    ECA              Albania           Yes   \n",
       "2    MNA              Algeria            No   \n",
       "3   AFRE               Angola            No   \n",
       "4    LAC  Antigua and Barbuda            No   \n",
       "\n",
       "0 Long-term Strategy  (LTS) or 2050+ CC Plan National Adaptation Plan (NAP)  \\\n",
       "0                                         No                             No   \n",
       "1                                         No                            Yes   \n",
       "2                                         No                             No   \n",
       "3                                         No                             No   \n",
       "4                                         No                             No   \n",
       "\n",
       "0 Coordination Mechanism Local-Level Risk Assessments Fiscal Risk Statements  \\\n",
       "0                    Yes               Info not found         Info not found   \n",
       "1                    Yes                          Yes         Info not found   \n",
       "2                    Yes                          Yes         Info not found   \n",
       "3                    Yes                           No                    Yes   \n",
       "4                    Yes                      Partial                    Yes   \n",
       "\n",
       "0 Budget Guidelines CC in Budget Project Screening  \\\n",
       "0    Info not found           No                No   \n",
       "1                No           No                No   \n",
       "2                No           No                No   \n",
       "3               Yes           No                No   \n",
       "4               Yes           No                No   \n",
       "\n",
       "0 SOE TFCD Framework Compliance  \\\n",
       "0                            No   \n",
       "1                            No   \n",
       "2                            No   \n",
       "3                            No   \n",
       "4                            No   \n",
       "\n",
       "0 Subnational Government CC Plans and Strategies \\n  \\\n",
       "0                                                No   \n",
       "1                                           Partial   \n",
       "2                                                No   \n",
       "3                                                No   \n",
       "4                                                No   \n",
       "\n",
       "0 Environmental Criteria in Procurement Tenders  \n",
       "0                                            No  \n",
       "1                                       Partial  \n",
       "2                                       Partial  \n",
       "3                                       Partial  \n",
       "4                                       Partial  "
      ]
     },
     "execution_count": 54,
     "metadata": {},
     "output_type": "execute_result"
    }
   ],
   "source": [
    "# Drop the first row (which is now the header)\n",
    "df_visualization_filtered = df_visualization_filtered[1:].reset_index(drop=True)\n",
    "df_visualization_filtered.head()"
   ]
  },
  {
   "cell_type": "markdown",
   "id": "e9f14239",
   "metadata": {},
   "source": [
    "Finally, let's take a look at the retrieved data."
   ]
  },
  {
   "cell_type": "code",
   "execution_count": null,
   "id": "b1d7cf70-bf0e-4c12-ae0d-fd26349291db",
   "metadata": {
    "tags": [
     "remove-cell"
    ]
   },
   "outputs": [],
   "source": [
    "df_check = load_data('WB.xlsx',file_type='excel',sheet_name='CC GOV Global Indicatos 2024')\n",
    "#%%\n",
    "explore_data(df_check)\n",
    "#%%\n",
    "\n",
    "print(df_check['Indicator'].unique())\n",
    "print(df_check['Indicator key word'].unique())\n",
    "print(df_check['Indicator type'].unique())\n",
    "\n",
    "#%%\n",
    "null_df_visualisation = df_visualization_filtered[df_visualization_filtered['Region'].isna()]\n",
    "null_df_visualisation\n",
    "# %%\n",
    "df_visualization_filtered.to_csv('WB_wide_format.csv', index=False)\n",
    "df_check.to_csv('WB_long_format.csv', index=False)\n",
    "# %%\n",
    "print(df_check['Indicator'].unique())\n",
    "print(df_check['Indicator key word'].unique())\n",
    "print(len(df_check['Indicator key word'].unique()))\n",
    "\n",
    "print(df_visualization_filtered.columns[2:])\n",
    "#%%\n",
    "df_check[['Indicator','Indicator key word','Indicator type']].head(50)\n",
    "\n",
    "#%%\n",
    "# This creates a dictionary where keys are values from the \"Indicator\" column, and values are from \"Indicator key word\".\n",
    "# Example: {\"GDP per capita\": \"Economic Growth\", \"Life Expectancy\": \"Health Indicator\", ...}\n",
    "# The dictionary will be used to map indicators to their respective keywords.\n",
    "\n",
    "mapping_dict = dict(zip(df_check['Indicator'], df_check['Indicator key word']))\n",
    "mapping_dict\n",
    "#%%\n",
    "df_check['Mapped_indicators'] = df_check['Indicator'].map(mapping_dict)\n",
    "#%%\n",
    "df_check[['Country','Indicator','Mapped_indicators']].head(50)"
   ]
  },
  {
   "cell_type": "code",
   "execution_count": null,
   "id": "699a0495-4f06-479c-b517-58336110547f",
   "metadata": {
    "tags": [
     "output_scroll"
    ]
   },
   "outputs": [],
   "source": [
    "df"
   ]
  },
  {
   "cell_type": "markdown",
   "id": "c5daa85a-004d-4e93-be84-72d064d0b83b",
   "metadata": {},
   "source": [
    "## Visualization\n",
    "\n",
    "As before, let's now plot the data as a time series using [Bokeh](https://docs.bokeh.org)."
   ]
  },
  {
   "cell_type": "code",
   "execution_count": null,
   "id": "60219760",
   "metadata": {},
   "outputs": [],
   "source": []
  }
 ],
 "metadata": {
  "kernelspec": {
   "display_name": "Sec-11",
   "language": "python",
   "name": "python3"
  },
  "language_info": {
   "codemirror_mode": {
    "name": "ipython",
    "version": 3
   },
   "file_extension": ".py",
   "mimetype": "text/x-python",
   "name": "python",
   "nbconvert_exporter": "python",
   "pygments_lexer": "ipython3",
   "version": "3.11.4"
  }
 },
 "nbformat": 4,
 "nbformat_minor": 5
}
